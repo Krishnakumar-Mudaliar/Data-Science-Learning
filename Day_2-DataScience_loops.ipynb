{
 "cells": [
  {
   "cell_type": "code",
   "execution_count": 22,
   "id": "65879fe5-fbac-4082-8ac5-36a3eceecdad",
   "metadata": {},
   "outputs": [],
   "source": [
    "age=21\n",
    "name=\"Krishnakumar\"\n",
    "degree=\"BE\""
   ]
  },
  {
   "cell_type": "code",
   "execution_count": 23,
   "id": "d6bb8c64-ab96-4540-8d15-79546aee5e85",
   "metadata": {},
   "outputs": [
    {
     "name": "stdout",
     "output_type": "stream",
     "text": [
      "My age is : 21\n"
     ]
    }
   ],
   "source": [
    "print(\"My age is :\",age)"
   ]
  },
  {
   "cell_type": "code",
   "execution_count": 24,
   "id": "a64349d0-3427-42c6-ade7-28d98550139b",
   "metadata": {},
   "outputs": [
    {
     "name": "stdout",
     "output_type": "stream",
     "text": [
      "My age is {age}\n"
     ]
    }
   ],
   "source": [
    "print(\"My age is {age}\")"
   ]
  },
  {
   "cell_type": "code",
   "execution_count": 25,
   "id": "8757cf4d-746e-4af6-afb7-789392a95168",
   "metadata": {},
   "outputs": [
    {
     "name": "stdout",
     "output_type": "stream",
     "text": [
      "my age is:21\n"
     ]
    }
   ],
   "source": [
    "#f ->fstring is used in formatting\n",
    "print(f\"my age is:{age}\")"
   ]
  },
  {
   "cell_type": "code",
   "execution_count": 26,
   "id": "d5ea5310-7256-459d-8a3c-51eec81ce4b3",
   "metadata": {},
   "outputs": [
    {
     "name": "stdout",
     "output_type": "stream",
     "text": [
      "My name is Krishnakumar and my age is 21\n"
     ]
    }
   ],
   "source": [
    "print(\"My name is {} and my age is {}\".format(name,age))"
   ]
  },
  {
   "cell_type": "code",
   "execution_count": 27,
   "id": "e71c6111-6072-4f9f-a365-a02f57f5c034",
   "metadata": {},
   "outputs": [
    {
     "name": "stdout",
     "output_type": "stream",
     "text": [
      "My name is Krishnakumar and my age is 21\n"
     ]
    }
   ],
   "source": [
    "print(\"My name is {firstname} and my age is {firstage}\".format(firstage=age,firstname=name))"
   ]
  },
  {
   "cell_type": "code",
   "execution_count": 28,
   "id": "3a80ce8e-e19a-4e16-be9e-8dcd870e5b93",
   "metadata": {},
   "outputs": [
    {
     "name": "stdout",
     "output_type": "stream",
     "text": [
      "My name is Krishnakumar and I am 21 years old and i have completed my degree of BE in 2023\n"
     ]
    }
   ],
   "source": [
    "print(\"My name is {myname} and I am {myage} years old and i have completed my degree of {mydegree} in 2023\".format(myage=age,myname=name,mydegree=degree))"
   ]
  },
  {
   "cell_type": "markdown",
   "id": "2a005abd-c175-4f03-bb89-b20d5730a7fb",
   "metadata": {},
   "source": [
    "# LOOPS"
   ]
  },
  {
   "cell_type": "markdown",
   "id": "771b0633-5d9b-4f0c-8270-882bd29b7290",
   "metadata": {},
   "source": [
    "# IF CONDITION"
   ]
  },
  {
   "cell_type": "code",
   "execution_count": 36,
   "id": "6ba81ade-31e5-43b6-9021-56218a7e1076",
   "metadata": {},
   "outputs": [
    {
     "name": "stdin",
     "output_type": "stream",
     "text": [
      "Enter you age: 13\n"
     ]
    },
    {
     "name": "stdout",
     "output_type": "stream",
     "text": [
      "my age is 13\n"
     ]
    }
   ],
   "source": [
    "age1 = int(input(\"Enter you age:\"))\n",
    "if age1<=18:\n",
    "    print(f\"my age is {age1}\")"
   ]
  },
  {
   "cell_type": "code",
   "execution_count": 38,
   "id": "c364c276-7b46-4142-b625-a40b1082d545",
   "metadata": {},
   "outputs": [
    {
     "name": "stdin",
     "output_type": "stream",
     "text": [
      "Enter your name Krishnakumar\n"
     ]
    }
   ],
   "source": [
    "name=input(\"Enter your name\")\n",
    "#default type of input is string"
   ]
  },
  {
   "cell_type": "code",
   "execution_count": 39,
   "id": "57a5f204-ba52-49e1-9163-f3775b3de26b",
   "metadata": {},
   "outputs": [
    {
     "name": "stdout",
     "output_type": "stream",
     "text": [
      "Krishnakumar\n"
     ]
    }
   ],
   "source": [
    "print(name)"
   ]
  },
  {
   "cell_type": "code",
   "execution_count": 44,
   "id": "db365c3e-06af-446e-b745-01803929d26d",
   "metadata": {},
   "outputs": [
    {
     "name": "stdin",
     "output_type": "stream",
     "text": [
      "Enter your age: 12\n"
     ]
    }
   ],
   "source": [
    "## TASK TAKE INPUT OF AGE AND CHECK IT IS GREATER THAN 18 AND LESSER THAN 45 AND IF IT SATISFIES PRINT SOME STATEMENT\n",
    "age2=int(input(\"Enter your age:\"))\n"
   ]
  },
  {
   "cell_type": "code",
   "execution_count": 45,
   "id": "fb3cfe73-1e42-4ec5-a856-58c7ce294f56",
   "metadata": {},
   "outputs": [
    {
     "name": "stdout",
     "output_type": "stream",
     "text": [
      "nothing\n"
     ]
    }
   ],
   "source": [
    "if age2>=18 and age2<=45:\n",
    "    print(\"YOU ARE YOUNG BLOOD\")\n",
    "else:\n",
    "    print(\"nothing\")"
   ]
  },
  {
   "cell_type": "code",
   "execution_count": 46,
   "id": "ceac5af0-d310-408c-9a1f-163195d7c1da",
   "metadata": {},
   "outputs": [],
   "source": [
    "#mall mei shopping aur product price enter karo\n",
    "# product <=1000rs then 10% discount\n",
    "# product >1000rs then 20%discount\n",
    "# print discounted price"
   ]
  },
  {
   "cell_type": "code",
   "execution_count": 50,
   "id": "23fec9ae-6562-4d1f-85e2-dde79262d78e",
   "metadata": {},
   "outputs": [
    {
     "name": "stdin",
     "output_type": "stream",
     "text": [
      "Enter the price of the product 1000\n"
     ]
    },
    {
     "name": "stdout",
     "output_type": "stream",
     "text": [
      "700.0\n"
     ]
    }
   ],
   "source": [
    "price=int(input(\"Enter the price of the product\"))\n",
    "d_price=0\n",
    "if price>=2000:\n",
    "    d_price=price-(0.2)*price\n",
    "else:\n",
    "     d_price=price-(0.3)*price\n",
    "print(d_price)"
   ]
  },
  {
   "cell_type": "code",
   "execution_count": 51,
   "id": "f43f31cd-3ce7-442d-a6ed-910efbe19087",
   "metadata": {},
   "outputs": [],
   "source": [
    "#mall mei shopping aur product price enter karo\n",
    "# product >3000rs then 20% discount\n",
    "# product >=2000rs and <=3000 then 30% discount\n",
    "# product <=1000rs and <2000 then 30% discount\n",
    "# print discounted price"
   ]
  },
  {
   "cell_type": "code",
   "execution_count": 53,
   "id": "b03146a6-1a4a-48e3-8e0d-01c9f06b32c1",
   "metadata": {},
   "outputs": [
    {
     "name": "stdin",
     "output_type": "stream",
     "text": [
      "Enter the price of the product 2500\n"
     ]
    },
    {
     "name": "stdout",
     "output_type": "stream",
     "text": [
      "discounted price is 1750.0\n"
     ]
    }
   ],
   "source": [
    "price=int(input(\"Enter the price of the product\"))\n",
    "d_price=0\n",
    "if price>3000:\n",
    "    d_price=price-(0.2)*price\n",
    "elif price>=2000 and price<=3000:\n",
    "     d_price=price-(0.3)*price\n",
    "else:\n",
    "    d_price=price-(0.2)*price\n",
    "print(f\"discounted price is {d_price}\")\n"
   ]
  },
  {
   "cell_type": "code",
   "execution_count": 2,
   "id": "067b6921-ece4-4d56-91b8-435d40f01b66",
   "metadata": {},
   "outputs": [
    {
     "name": "stdin",
     "output_type": "stream",
     "text": [
      "Enter the value 9999\n"
     ]
    },
    {
     "name": "stdout",
     "output_type": "stream",
     "text": [
      "Hi\n"
     ]
    }
   ],
   "source": [
    "#single statement suites\n",
    "\n",
    "z=int(input(\"Enter the value\"))\n",
    "if z>=1000:print(\"Hi\")\n",
    "else :print(\"Bye\")"
   ]
  },
  {
   "cell_type": "markdown",
   "id": "04e15d97-5175-403f-9ab2-b29d008ede25",
   "metadata": {},
   "source": [
    "# Loop Statements\n",
    "1. while loop \n",
    "2. for loop \n",
    "3. nested loops \n",
    "4. loop controls(break,continue,pass)"
   ]
  },
  {
   "cell_type": "markdown",
   "id": "38ee0ce6-4ad3-4048-8ec0-896e5e082f17",
   "metadata": {},
   "source": [
    "# While loop"
   ]
  },
  {
   "cell_type": "code",
   "execution_count": 4,
   "id": "a706eaa4-e661-4346-a9f8-6a2436a970c6",
   "metadata": {},
   "outputs": [
    {
     "name": "stdout",
     "output_type": "stream",
     "text": [
      "You are now in working life at age 24\n",
      "You are now in working life at age 25\n",
      "You are now in working life at age 26\n",
      "You are now in working life at age 27\n",
      "You are now in working life at age 28\n",
      "You are now in working life at age 29\n",
      "You are now in working life at age 30\n",
      "You are now in working life at age 31\n",
      "You are now in working life at age 32\n",
      "You are now in working life at age 33\n",
      "You are now in working life at age 34\n",
      "You are now in working life at age 35\n",
      "You are now in working life at age 36\n",
      "You are now in working life at age 37\n",
      "You are now in working life at age 38\n",
      "You are now in working life at age 39\n",
      "You are now in working life at age 40\n",
      "You are now in working life at age 41\n",
      "You are now in working life at age 42\n",
      "You are now in working life at age 43\n",
      "You are now in working life at age 44\n",
      "You are now in working life at age 45\n",
      "You are now in working life at age 46\n",
      "You are now in working life at age 47\n",
      "You are now in working life at age 48\n",
      "You are now in working life at age 49\n",
      "You are now in working life at age 50\n",
      "You are now in working life at age 51\n",
      "You are now in working life at age 52\n",
      "You are now in working life at age 53\n",
      "You are now in working life at age 54\n",
      "You are now in working life at age 55\n",
      "You are now in working life at age 56\n",
      "You are now in working life at age 57\n",
      "You are now in working life at age 58\n",
      "You are now in working life at age 59\n",
      "You are now in working life at age 60\n"
     ]
    }
   ],
   "source": [
    "#while loop\n",
    "retirement_age=60\n",
    "joining_age=24\n",
    "while(joining_age<=60):\n",
    "    print(f\"You are now in working life at age {joining_age}\")\n",
    "    joining_age=joining_age+1"
   ]
  },
  {
   "cell_type": "code",
   "execution_count": 7,
   "id": "4cac8d1f-b3d2-4e22-97e2-f4cab97aa2cf",
   "metadata": {},
   "outputs": [
    {
     "name": "stdout",
     "output_type": "stream",
     "text": [
      "The remaining money is 1900\n",
      "The remaining money is 1800\n",
      "The remaining money is 1700\n",
      "The remaining money is 1600\n",
      "The remaining money is 1500\n",
      "The remaining money is 1400\n",
      "The remaining money is 1300\n",
      "The remaining money is 1200\n",
      "The remaining money is 1100\n",
      "The remaining money is 1000\n",
      "The remaining money is 900\n",
      "The remaining money is 800\n",
      "The remaining money is 700\n",
      "The remaining money is 600\n",
      "The remaining money is 500\n",
      "The remaining money is 400\n",
      "The remaining money is 300\n",
      "The remaining money is 200\n",
      "The remaining money is 100\n",
      "The remaining money is 0\n",
      "Please refill the ATM with money\n"
     ]
    }
   ],
   "source": [
    "# example of while loop with ATM machnine\n",
    "total_amount=2000\n",
    "while total_amount!=0:\n",
    "    total_amount=total_amount-100\n",
    "    print(f\"The remaining money is {total_amount}\")\n",
    "else:\n",
    "    print(\"Please refill the ATM with money\")"
   ]
  },
  {
   "cell_type": "markdown",
   "id": "9795d131-b388-4442-bd53-083c631babdb",
   "metadata": {},
   "source": [
    "# For loop"
   ]
  },
  {
   "cell_type": "code",
   "execution_count": 16,
   "id": "3025951d-878c-4c01-ae41-9100c10db3de",
   "metadata": {},
   "outputs": [],
   "source": [
    "#list\n",
    "var1=[\"Krishna\",\"Pradeep\",\"Xyz\",1,2,3]"
   ]
  },
  {
   "cell_type": "code",
   "execution_count": 17,
   "id": "e91f62af-0b31-4cd7-a849-2a8c968099b6",
   "metadata": {},
   "outputs": [
    {
     "data": {
      "text/plain": [
       "list"
      ]
     },
     "execution_count": 17,
     "metadata": {},
     "output_type": "execute_result"
    }
   ],
   "source": [
    "type(var1)\n"
   ]
  },
  {
   "cell_type": "code",
   "execution_count": 18,
   "id": "e732a65b-d806-412f-b3cb-a1cdbfc06feb",
   "metadata": {},
   "outputs": [
    {
     "name": "stdout",
     "output_type": "stream",
     "text": [
      "['Krishna', 'Pradeep', 'Xyz', 1, 2, 3]\n"
     ]
    }
   ],
   "source": [
    "print(var1)"
   ]
  },
  {
   "cell_type": "code",
   "execution_count": 19,
   "id": "6b9fab1c-e13f-43a7-b685-07f650860abf",
   "metadata": {},
   "outputs": [
    {
     "name": "stdout",
     "output_type": "stream",
     "text": [
      "Krishna\n",
      "Pradeep\n",
      "Xyz\n",
      "1\n",
      "2\n",
      "3\n"
     ]
    }
   ],
   "source": [
    "for i in var1:\n",
    "    print(i)"
   ]
  },
  {
   "cell_type": "code",
   "execution_count": 23,
   "id": "3e0e1083-1f0d-4a8a-88f6-160d0eeee138",
   "metadata": {},
   "outputs": [
    {
     "name": "stdout",
     "output_type": "stream",
     "text": [
      "Krishna Pradeep Xyz 1 2 3 "
     ]
    }
   ],
   "source": [
    "for i in var1:\n",
    "    print(i,end=' ')\n",
    "    "
   ]
  },
  {
   "cell_type": "code",
   "execution_count": 21,
   "id": "487e74ca-874e-4945-a0e2-76af85219138",
   "metadata": {},
   "outputs": [
    {
     "name": "stdout",
     "output_type": "stream",
     "text": [
      "Krishna\n",
      "He is a very good guy\n",
      "Pradeep\n",
      "Xyz\n",
      "1\n",
      "2\n",
      "3\n"
     ]
    }
   ],
   "source": [
    "for i in var1:\n",
    "    print(i)\n",
    "    if i==\"Krishna\":\n",
    "        print(\"He is a very good guy\")"
   ]
  },
  {
   "cell_type": "code",
   "execution_count": 24,
   "id": "26c8cba5-0cca-40de-8415-d70274c70ac7",
   "metadata": {},
   "outputs": [
    {
     "name": "stdout",
     "output_type": "stream",
     "text": [
      "Krishna\n"
     ]
    }
   ],
   "source": [
    "for i in var1:\n",
    "    print(i)\n",
    "    if i==\"Krishna\":\n",
    "        break"
   ]
  },
  {
   "cell_type": "code",
   "execution_count": 26,
   "id": "2332d048-a0be-49a3-9af4-25d815da13b2",
   "metadata": {},
   "outputs": [
    {
     "name": "stdout",
     "output_type": "stream",
     "text": [
      "m\n",
      "a\n",
      "n\n",
      "g\n",
      "o\n"
     ]
    },
    {
     "data": {
      "text/plain": [
       "'m'"
      ]
     },
     "execution_count": 26,
     "metadata": {},
     "output_type": "execute_result"
    }
   ],
   "source": [
    "#string is also a collection of elements\n",
    "fruit='mango'\n",
    "for i in fruit:\n",
    "    print(i)\n",
    "\n",
    "fruit[0]"
   ]
  },
  {
   "cell_type": "code",
   "execution_count": 34,
   "id": "b45260da-0ff2-4aad-a970-99f4b1e66440",
   "metadata": {},
   "outputs": [
    {
     "name": "stdout",
     "output_type": "stream",
     "text": [
      "0 1 2 3 4 5 6 7 8 9 10 11 12 13 14 15 16 17 18 19 20 21 22 23 24 25 26 27 28 29 30 31 32 33 34 35 36 37 38 39 40 41 42 43 44 45 46 47 48 49 50 51 52 53 54 55 56 57 58 59 60 61 62 63 64 65 66 67 68 69 70 71 72 73 74 75 76 77 78 79 80 81 82 83 84 85 86 87 88 89 90 91 92 93 94 95 96 97 98 99 "
     ]
    }
   ],
   "source": [
    "\n",
    "#for starts with the index zero \n",
    "var1=100\n",
    "for x in range(var1):\n",
    "  print(x,end= ' ')\n",
    "\n",
    "    "
   ]
  },
  {
   "cell_type": "code",
   "execution_count": 35,
   "id": "02007b5b-d7dc-48c0-bccc-8f827c3a5b99",
   "metadata": {},
   "outputs": [
    {
     "name": "stdout",
     "output_type": "stream",
     "text": [
      "1 2 3 4 5 6 7 8 9 "
     ]
    }
   ],
   "source": [
    "for x in range(1,10):\n",
    "    print(x,end= ' ')"
   ]
  },
  {
   "cell_type": "code",
   "execution_count": 36,
   "id": "6f49348a-29fb-4e28-bb56-9516a6c8ec6b",
   "metadata": {},
   "outputs": [
    {
     "name": "stdout",
     "output_type": "stream",
     "text": [
      "1 3 5 7 9 11 13 15 17 19 21 23 25 27 29 31 33 35 37 39 41 43 45 47 49 51 53 55 57 59 61 63 65 67 69 71 73 75 77 79 81 83 85 87 89 91 93 95 97 99 "
     ]
    }
   ],
   "source": [
    "for x in range(1,100,2):\n",
    "    print(x,end= ' ')"
   ]
  },
  {
   "cell_type": "code",
   "execution_count": 42,
   "id": "cc765d87-5ee8-4b21-bc25-a9a1c9e1309b",
   "metadata": {},
   "outputs": [
    {
     "name": "stdout",
     "output_type": "stream",
     "text": [
      "0\n"
     ]
    }
   ],
   "source": [
    "for i in range(0,1):\n",
    "    print(i)"
   ]
  },
  {
   "cell_type": "markdown",
   "id": "10d30727-619b-4323-8968-89e46c1cbc19",
   "metadata": {},
   "source": [
    "# Nested loop"
   ]
  },
  {
   "cell_type": "code",
   "execution_count": 43,
   "id": "4b75637f-84e8-4d6d-a1c8-8d0726495f50",
   "metadata": {},
   "outputs": [
    {
     "name": "stdout",
     "output_type": "stream",
     "text": [
      "*\n",
      "**\n",
      "***\n",
      "****\n",
      "*****\n",
      "******\n",
      "*******\n"
     ]
    }
   ],
   "source": [
    "n=7\n",
    "for i in range(0,n):\n",
    "    for j in range(0,i+1):\n",
    "        print(\"*\",end=\"\" )\n",
    "    print(\"\\r\")    \n",
    "        "
   ]
  },
  {
   "cell_type": "markdown",
   "id": "b7781e3e-b2e0-4a32-8003-9ad34ad17fe2",
   "metadata": {},
   "source": [
    "# control statements"
   ]
  },
  {
   "cell_type": "code",
   "execution_count": 44,
   "id": "b6fcd567-63a9-49b9-bd75-f1489c0e12c6",
   "metadata": {},
   "outputs": [],
   "source": [
    "fruit_list=[\"apple\",\"banana\",\"guava\",\"grapes\",\"watermelon\",\"blueberry\"]"
   ]
  },
  {
   "cell_type": "code",
   "execution_count": 45,
   "id": "ecd96afa-426f-417e-909b-9fe28863a83f",
   "metadata": {},
   "outputs": [
    {
     "name": "stdout",
     "output_type": "stream",
     "text": [
      "apple\n",
      "banana\n",
      "guava\n",
      "The season is winter\n",
      "grapes\n",
      "watermelon\n",
      "blueberry\n"
     ]
    }
   ],
   "source": [
    "for i in fruit_list:\n",
    "    if i==\"grapes\":\n",
    "        print(\"The season is winter\")\n",
    "    print(i)"
   ]
  },
  {
   "cell_type": "code",
   "execution_count": 47,
   "id": "ec8e48f2-5f27-4b4b-a6ac-f43f3dbb2717",
   "metadata": {},
   "outputs": [
    {
     "name": "stdout",
     "output_type": "stream",
     "text": [
      "apple\n",
      "banana\n",
      "guava\n",
      "The season is winter\n"
     ]
    }
   ],
   "source": [
    "#break statement\n",
    "#break will throw you out of the loop\n",
    "for i in fruit_list:\n",
    "    if i==\"grapes\":\n",
    "        print(\"The season is winter\")\n",
    "        break\n",
    "    print(i)"
   ]
  },
  {
   "cell_type": "code",
   "execution_count": 48,
   "id": "fb206351-b8d6-43c5-b541-1fa3d644830b",
   "metadata": {},
   "outputs": [
    {
     "name": "stdout",
     "output_type": "stream",
     "text": [
      "apple\n",
      "banana\n",
      "guava\n",
      "The season is winter\n",
      "grapes\n",
      "watermelon\n",
      "blueberry\n"
     ]
    }
   ],
   "source": [
    "#pass statement\n",
    "for i in fruit_list:\n",
    "    if i==\"grapes\":\n",
    "        print(\"The season is winter\")\n",
    "        pass\n",
    "    print(i)"
   ]
  },
  {
   "cell_type": "code",
   "execution_count": 50,
   "id": "b3831ea2-2044-4c34-94a4-e0f8dc397dc6",
   "metadata": {},
   "outputs": [
    {
     "name": "stdout",
     "output_type": "stream",
     "text": [
      "apple\n",
      "banana\n",
      "guava\n",
      "The season is winter\n",
      "watermelon\n",
      "blueberry\n"
     ]
    }
   ],
   "source": [
    "#continue statement\n",
    "#it on;y skips a particular portion of the loop\n",
    "for i in fruit_list:\n",
    "    if i==\"grapes\":\n",
    "        print(\"The season is winter\")\n",
    "        continue\n",
    "    print(i)"
   ]
  },
  {
   "cell_type": "code",
   "execution_count": null,
   "id": "71a28ba0-d894-491e-83f8-56868afaa1d5",
   "metadata": {},
   "outputs": [],
   "source": []
  }
 ],
 "metadata": {
  "kernelspec": {
   "display_name": "Python 3 (ipykernel)",
   "language": "python",
   "name": "python3"
  },
  "language_info": {
   "codemirror_mode": {
    "name": "ipython",
    "version": 3
   },
   "file_extension": ".py",
   "mimetype": "text/x-python",
   "name": "python",
   "nbconvert_exporter": "python",
   "pygments_lexer": "ipython3",
   "version": "3.10.8"
  }
 },
 "nbformat": 4,
 "nbformat_minor": 5
}
