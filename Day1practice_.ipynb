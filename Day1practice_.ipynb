{
 "cells": [
  {
   "cell_type": "code",
   "execution_count": 1,
   "id": "13b12b41-13bc-434c-a241-df89ac2afc02",
   "metadata": {},
   "outputs": [],
   "source": [
    "a=10"
   ]
  },
  {
   "cell_type": "code",
   "execution_count": 3,
   "id": "de9f8c0f-78a1-4de8-9f01-913e49aa6932",
   "metadata": {},
   "outputs": [
    {
     "data": {
      "text/plain": [
       "10"
      ]
     },
     "execution_count": 3,
     "metadata": {},
     "output_type": "execute_result"
    }
   ],
   "source": [
    "a"
   ]
  },
  {
   "cell_type": "markdown",
   "id": "ab041043-a569-4fc8-ba08-aaa92aaa8d93",
   "metadata": {},
   "source": [
    "Hello This is markdown\n",
    "# markdown\n",
    "## markdown\n",
    "### markdown"
   ]
  },
  {
   "cell_type": "code",
   "execution_count": 4,
   "id": "f9458570-c4ed-49ff-b98c-99a2d41f37ee",
   "metadata": {},
   "outputs": [],
   "source": [
    "name=\"Krishna\""
   ]
  },
  {
   "cell_type": "code",
   "execution_count": 5,
   "id": "e264086e-9016-4e69-b435-6ca2dcd715e3",
   "metadata": {},
   "outputs": [],
   "source": [
    "company=\"Student\""
   ]
  },
  {
   "cell_type": "code",
   "execution_count": 6,
   "id": "335064a3-d4dc-4d47-bb6b-1d7babc6ab19",
   "metadata": {},
   "outputs": [
    {
     "name": "stdout",
     "output_type": "stream",
     "text": [
      "Krishna Student\n"
     ]
    }
   ],
   "source": [
    "print(name,company)"
   ]
  },
  {
   "cell_type": "code",
   "execution_count": 9,
   "id": "78120da1-d2e5-4c29-8ac7-116756b09575",
   "metadata": {},
   "outputs": [],
   "source": [
    "name=\"Krishna Mudaliar\"\n"
   ]
  },
  {
   "cell_type": "code",
   "execution_count": 10,
   "id": "1f1bb4ba-3b09-4b47-94d0-c3b70c5ddffd",
   "metadata": {},
   "outputs": [
    {
     "name": "stdout",
     "output_type": "stream",
     "text": [
      "Krishna Mudaliar\n"
     ]
    }
   ],
   "source": [
    "print(name)"
   ]
  },
  {
   "cell_type": "markdown",
   "id": "829afd23-f21a-4eac-9f8b-9d8c709410f8",
   "metadata": {},
   "source": [
    "# WE CAN USE DOUBLE OR SINGLE QUOTATION FOR STRINGS"
   ]
  },
  {
   "cell_type": "code",
   "execution_count": 12,
   "id": "63171e04-c8f6-4f55-a754-c37f42b3d8ff",
   "metadata": {},
   "outputs": [
    {
     "data": {
      "text/plain": [
       "str"
      ]
     },
     "execution_count": 12,
     "metadata": {},
     "output_type": "execute_result"
    }
   ],
   "source": [
    "type(\"\")"
   ]
  },
  {
   "cell_type": "code",
   "execution_count": 19,
   "id": "b5d9d0d8-399b-4bde-82e0-aa83c62a71f1",
   "metadata": {},
   "outputs": [
    {
     "data": {
      "text/plain": [
       "str"
      ]
     },
     "execution_count": 19,
     "metadata": {},
     "output_type": "execute_result"
    }
   ],
   "source": [
    "type(\"10\")"
   ]
  },
  {
   "cell_type": "code",
   "execution_count": 13,
   "id": "0ad977c0-f991-46f3-b7b0-25878c292fef",
   "metadata": {},
   "outputs": [
    {
     "data": {
      "text/plain": [
       "int"
      ]
     },
     "execution_count": 13,
     "metadata": {},
     "output_type": "execute_result"
    }
   ],
   "source": [
    "type(34)"
   ]
  },
  {
   "cell_type": "code",
   "execution_count": 14,
   "id": "269c5771-b94d-4e08-9151-68f34fdc1e4d",
   "metadata": {},
   "outputs": [
    {
     "data": {
      "text/plain": [
       "float"
      ]
     },
     "execution_count": 14,
     "metadata": {},
     "output_type": "execute_result"
    }
   ],
   "source": [
    "type(25.25)"
   ]
  },
  {
   "cell_type": "code",
   "execution_count": 29,
   "id": "e32e7948-f3b4-4fcc-bc09-20dace4a2675",
   "metadata": {},
   "outputs": [
    {
     "data": {
      "text/plain": [
       "complex"
      ]
     },
     "execution_count": 29,
     "metadata": {},
     "output_type": "execute_result"
    }
   ],
   "source": [
    "type(2+8j)"
   ]
  },
  {
   "cell_type": "code",
   "execution_count": 16,
   "id": "79a42889-08be-4d0d-90d3-0f8fe8b476d0",
   "metadata": {},
   "outputs": [
    {
     "data": {
      "text/plain": [
       "bool"
      ]
     },
     "execution_count": 16,
     "metadata": {},
     "output_type": "execute_result"
    }
   ],
   "source": [
    "type(True)"
   ]
  },
  {
   "cell_type": "code",
   "execution_count": 17,
   "id": "4bd14752-deaa-4cd6-b625-9ddd531f0623",
   "metadata": {},
   "outputs": [
    {
     "data": {
      "text/plain": [
       "bool"
      ]
     },
     "execution_count": 17,
     "metadata": {},
     "output_type": "execute_result"
    }
   ],
   "source": [
    "type(False)"
   ]
  },
  {
   "cell_type": "code",
   "execution_count": 20,
   "id": "83092294-b1a9-4d8d-9efb-ef71d24f9541",
   "metadata": {},
   "outputs": [],
   "source": [
    "x=\"Krishna\"\n",
    "y=10\n",
    "z=True\n",
    "a=159.256\n"
   ]
  },
  {
   "cell_type": "code",
   "execution_count": 23,
   "id": "45b8c5a0-b5f3-4620-94c5-239ace449e2d",
   "metadata": {},
   "outputs": [
    {
     "data": {
      "text/plain": [
       "float"
      ]
     },
     "execution_count": 23,
     "metadata": {},
     "output_type": "execute_result"
    }
   ],
   "source": [
    "type(x)\n"
   ]
  },
  {
   "cell_type": "code",
   "execution_count": 24,
   "id": "dc2e8193-f34d-4975-90d5-e37ee04cefb8",
   "metadata": {},
   "outputs": [
    {
     "data": {
      "text/plain": [
       "int"
      ]
     },
     "execution_count": 24,
     "metadata": {},
     "output_type": "execute_result"
    }
   ],
   "source": [
    "type(y)"
   ]
  },
  {
   "cell_type": "code",
   "execution_count": 25,
   "id": "f28c164d-fbdd-4085-a4de-44e3cc8cf1ee",
   "metadata": {},
   "outputs": [
    {
     "data": {
      "text/plain": [
       "bool"
      ]
     },
     "execution_count": 25,
     "metadata": {},
     "output_type": "execute_result"
    }
   ],
   "source": [
    "\n",
    "type(z)"
   ]
  },
  {
   "cell_type": "code",
   "execution_count": 26,
   "id": "9cc6493e-e407-43f5-bf95-42684556ee30",
   "metadata": {},
   "outputs": [
    {
     "data": {
      "text/plain": [
       "float"
      ]
     },
     "execution_count": 26,
     "metadata": {},
     "output_type": "execute_result"
    }
   ],
   "source": [
    "type(a)"
   ]
  },
  {
   "cell_type": "markdown",
   "id": "d567e504-4575-4135-87f3-d59a392ea83f",
   "metadata": {},
   "source": [
    "# Variables do not start with number or the _\n",
    "# don't give reserved keywords to the variables\n",
    "# variables are case sensitive"
   ]
  },
  {
   "cell_type": "markdown",
   "id": "da4a47a8-e02f-48d7-a92c-e888c734d1cd",
   "metadata": {},
   "source": [
    "# BOOLEAN"
   ]
  },
  {
   "cell_type": "markdown",
   "id": "aed239ce-1765-4d5c-8e4e-3b7a27942038",
   "metadata": {},
   "source": [
    "# boolean takes 0 as false and takes any value as true other than'0'"
   ]
  },
  {
   "cell_type": "code",
   "execution_count": 31,
   "id": "f1667166-d122-454f-9a50-8ab522009022",
   "metadata": {},
   "outputs": [
    {
     "data": {
      "text/plain": [
       "True"
      ]
     },
     "execution_count": 31,
     "metadata": {},
     "output_type": "execute_result"
    }
   ],
   "source": [
    "True"
   ]
  },
  {
   "cell_type": "code",
   "execution_count": 32,
   "id": "7de50eb5-ff10-4434-b1f2-f6928b8fc651",
   "metadata": {},
   "outputs": [
    {
     "data": {
      "text/plain": [
       "False"
      ]
     },
     "execution_count": 32,
     "metadata": {},
     "output_type": "execute_result"
    }
   ],
   "source": [
    "False"
   ]
  },
  {
   "cell_type": "code",
   "execution_count": 33,
   "id": "354aa48d-c6f0-417d-8f57-172d811e82b6",
   "metadata": {},
   "outputs": [
    {
     "data": {
      "text/plain": [
       "False"
      ]
     },
     "execution_count": 33,
     "metadata": {},
     "output_type": "execute_result"
    }
   ],
   "source": [
    "not True"
   ]
  },
  {
   "cell_type": "code",
   "execution_count": 34,
   "id": "d93846be-2568-4e78-87cd-6ec7d9382ee1",
   "metadata": {},
   "outputs": [
    {
     "data": {
      "text/plain": [
       "True"
      ]
     },
     "execution_count": 34,
     "metadata": {},
     "output_type": "execute_result"
    }
   ],
   "source": [
    "not False"
   ]
  },
  {
   "cell_type": "code",
   "execution_count": 35,
   "id": "05e1c7f2-bdef-48c5-815d-2e3afa3c7bde",
   "metadata": {},
   "outputs": [
    {
     "data": {
      "text/plain": [
       "False"
      ]
     },
     "execution_count": 35,
     "metadata": {},
     "output_type": "execute_result"
    }
   ],
   "source": [
    "True and False"
   ]
  },
  {
   "cell_type": "code",
   "execution_count": 36,
   "id": "7330e1a8-f291-4972-835e-2c11367a6f03",
   "metadata": {},
   "outputs": [
    {
     "data": {
      "text/plain": [
       "True"
      ]
     },
     "execution_count": 36,
     "metadata": {},
     "output_type": "execute_result"
    }
   ],
   "source": [
    "True or False"
   ]
  },
  {
   "cell_type": "code",
   "execution_count": 40,
   "id": "9d6816cd-fc54-4090-881f-516cd617afd0",
   "metadata": {},
   "outputs": [
    {
     "data": {
      "text/plain": [
       "False"
      ]
     },
     "execution_count": 40,
     "metadata": {},
     "output_type": "execute_result"
    }
   ],
   "source": [
    "# Typecasting\n",
    "bool(0)"
   ]
  },
  {
   "cell_type": "code",
   "execution_count": 38,
   "id": "ddb7b2fd-c11a-4a18-b5f7-f8efd6f2ecd4",
   "metadata": {},
   "outputs": [
    {
     "data": {
      "text/plain": [
       "True"
      ]
     },
     "execution_count": 38,
     "metadata": {},
     "output_type": "execute_result"
    }
   ],
   "source": [
    "bool(1)"
   ]
  },
  {
   "cell_type": "code",
   "execution_count": 66,
   "id": "06cce055-f40b-4916-aefa-e602fec3959d",
   "metadata": {},
   "outputs": [
    {
     "data": {
      "text/plain": [
       "True"
      ]
     },
     "execution_count": 66,
     "metadata": {},
     "output_type": "execute_result"
    }
   ],
   "source": [
    "bool(4)"
   ]
  },
  {
   "cell_type": "code",
   "execution_count": 39,
   "id": "7002f630-9a65-4cce-9672-c34eccf9ade8",
   "metadata": {},
   "outputs": [
    {
     "name": "stdout",
     "output_type": "stream",
     "text": [
      "True\n"
     ]
    }
   ],
   "source": [
    "f=1\n",
    "if(bool(f)==True):\n",
    "    print(\"True\")"
   ]
  },
  {
   "cell_type": "code",
   "execution_count": 41,
   "id": "52daf064-9362-44a0-825e-aca7f04117a0",
   "metadata": {},
   "outputs": [
    {
     "name": "stdout",
     "output_type": "stream",
     "text": [
      "10\n"
     ]
    }
   ],
   "source": [
    "string=\"10\"\n",
    "print(string)"
   ]
  },
  {
   "cell_type": "code",
   "execution_count": 42,
   "id": "a2f8ad1a-dc1d-489b-9bd9-73b49b149e51",
   "metadata": {},
   "outputs": [
    {
     "data": {
      "text/plain": [
       "str"
      ]
     },
     "execution_count": 42,
     "metadata": {},
     "output_type": "execute_result"
    }
   ],
   "source": [
    "type(string)"
   ]
  },
  {
   "cell_type": "code",
   "execution_count": 51,
   "id": "0a21fb5d-34a9-4b45-9d09-34674d93f2c3",
   "metadata": {},
   "outputs": [],
   "source": [
    "a=int(string)"
   ]
  },
  {
   "cell_type": "code",
   "execution_count": 52,
   "id": "12e53b52-f789-4ad4-9839-b63e52c1b1a9",
   "metadata": {},
   "outputs": [
    {
     "data": {
      "text/plain": [
       "int"
      ]
     },
     "execution_count": 52,
     "metadata": {},
     "output_type": "execute_result"
    }
   ],
   "source": [
    "type(a)"
   ]
  },
  {
   "cell_type": "markdown",
   "id": "db5d1b12-d3e7-4508-bfca-8100c89710f3",
   "metadata": {},
   "source": [
    "# Dynamic Typing"
   ]
  },
  {
   "cell_type": "code",
   "execution_count": 61,
   "id": "242da37d-21fe-4293-8622-fe5e2de76912",
   "metadata": {},
   "outputs": [
    {
     "name": "stdout",
     "output_type": "stream",
     "text": [
      "1\n"
     ]
    },
    {
     "data": {
      "text/plain": [
       "int"
      ]
     },
     "execution_count": 61,
     "metadata": {},
     "output_type": "execute_result"
    }
   ],
   "source": [
    "d=1\n",
    "print(d)\n",
    "type(d)"
   ]
  },
  {
   "cell_type": "code",
   "execution_count": 62,
   "id": "7f173d43-428d-4b80-a476-de5958ce8edf",
   "metadata": {},
   "outputs": [
    {
     "name": "stdout",
     "output_type": "stream",
     "text": [
      "Krishna\n"
     ]
    },
    {
     "data": {
      "text/plain": [
       "str"
      ]
     },
     "execution_count": 62,
     "metadata": {},
     "output_type": "execute_result"
    }
   ],
   "source": [
    "e=\"Krishna\"\n",
    "print(e)\n",
    "type(e)"
   ]
  },
  {
   "cell_type": "markdown",
   "id": "4fbab883-402e-465e-bd71-5f1fbf06b01a",
   "metadata": {},
   "source": [
    "# Concatenation"
   ]
  },
  {
   "cell_type": "code",
   "execution_count": 63,
   "id": "7690dd59-d63e-4813-aa74-0d7a207030f8",
   "metadata": {},
   "outputs": [
    {
     "data": {
      "text/plain": [
       "'12'"
      ]
     },
     "execution_count": 63,
     "metadata": {},
     "output_type": "execute_result"
    }
   ],
   "source": [
    "\"1\"+\"2\""
   ]
  },
  {
   "cell_type": "code",
   "execution_count": 64,
   "id": "1758909c-1a6f-481a-9149-bab6a6ec7169",
   "metadata": {},
   "outputs": [
    {
     "data": {
      "text/plain": [
       "3"
      ]
     },
     "execution_count": 64,
     "metadata": {},
     "output_type": "execute_result"
    }
   ],
   "source": [
    "int(\"1\")+int(\"2\")"
   ]
  },
  {
   "cell_type": "code",
   "execution_count": 65,
   "id": "28b884ac-bef1-4abe-93c0-c6f985158b72",
   "metadata": {},
   "outputs": [
    {
     "data": {
      "text/plain": [
       "'1111111111111111111111111111111111111111111111111111111111111111111111111111111111111111111111111111'"
      ]
     },
     "execution_count": 65,
     "metadata": {},
     "output_type": "execute_result"
    }
   ],
   "source": [
    "\"1\"*100"
   ]
  },
  {
   "cell_type": "code",
   "execution_count": null,
   "id": "96d574b8-8875-47e8-a4d8-fe908c9ecce1",
   "metadata": {},
   "outputs": [],
   "source": []
  }
 ],
 "metadata": {
  "kernelspec": {
   "display_name": "Python 3 (ipykernel)",
   "language": "python",
   "name": "python3"
  },
  "language_info": {
   "codemirror_mode": {
    "name": "ipython",
    "version": 3
   },
   "file_extension": ".py",
   "mimetype": "text/x-python",
   "name": "python",
   "nbconvert_exporter": "python",
   "pygments_lexer": "ipython3",
   "version": "3.10.8"
  }
 },
 "nbformat": 4,
 "nbformat_minor": 5
}
