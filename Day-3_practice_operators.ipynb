{
 "cells": [
  {
   "cell_type": "markdown",
   "id": "02ddad98-f7fc-4e0f-8a4a-cd6b1a9ec750",
   "metadata": {},
   "source": [
    "# LOGICAL OPERATORS"
   ]
  },
  {
   "cell_type": "markdown",
   "id": "a9754c8b-3bcd-46db-9a60-d46e10395d2c",
   "metadata": {},
   "source": [
    "# logical operators\n",
    "# and\n",
    "# or \n",
    "# not"
   ]
  },
  {
   "cell_type": "code",
   "execution_count": 2,
   "id": "5f3be6e6-4c81-48a5-8a30-39b780d7ce29",
   "metadata": {},
   "outputs": [
    {
     "data": {
      "text/plain": [
       "True"
      ]
     },
     "execution_count": 2,
     "metadata": {},
     "output_type": "execute_result"
    }
   ],
   "source": [
    "True and True"
   ]
  },
  {
   "cell_type": "code",
   "execution_count": 3,
   "id": "b63015fe-ee8c-4f17-bf0b-3b1d9b81b46f",
   "metadata": {},
   "outputs": [
    {
     "data": {
      "text/plain": [
       "True"
      ]
     },
     "execution_count": 3,
     "metadata": {},
     "output_type": "execute_result"
    }
   ],
   "source": [
    "True or False"
   ]
  },
  {
   "cell_type": "code",
   "execution_count": 4,
   "id": "7d40cb34-99ba-4709-bcc2-b25f0d473add",
   "metadata": {},
   "outputs": [
    {
     "data": {
      "text/plain": [
       "False"
      ]
     },
     "execution_count": 4,
     "metadata": {},
     "output_type": "execute_result"
    }
   ],
   "source": [
    "not True"
   ]
  },
  {
   "cell_type": "code",
   "execution_count": 17,
   "id": "7c8029db-d93f-4004-9978-ef4cd0be1cbd",
   "metadata": {},
   "outputs": [
    {
     "name": "stdout",
     "output_type": "stream",
     "text": [
      "False\n",
      "True\n",
      "True\n"
     ]
    }
   ],
   "source": [
    "print(bool(0))\n",
    "print(bool(1))\n",
    "print(bool(2))\n",
    "# any number other than 0 is always true in bool"
   ]
  },
  {
   "cell_type": "code",
   "execution_count": 9,
   "id": "c51361a4-ab5d-4b75-a61b-2d498c8c944d",
   "metadata": {},
   "outputs": [
    {
     "data": {
      "text/plain": [
       "True"
      ]
     },
     "execution_count": 9,
     "metadata": {},
     "output_type": "execute_result"
    }
   ],
   "source": [
    "not int(bool(0))"
   ]
  },
  {
   "cell_type": "code",
   "execution_count": 22,
   "id": "322d3b4f-d1c7-42a4-9593-2261645a81ad",
   "metadata": {},
   "outputs": [
    {
     "data": {
      "text/plain": [
       "True"
      ]
     },
     "execution_count": 22,
     "metadata": {},
     "output_type": "execute_result"
    }
   ],
   "source": [
    "not bool(0)\n"
   ]
  },
  {
   "cell_type": "code",
   "execution_count": 25,
   "id": "d17a680b-8f8f-4256-b01c-84623f515e8c",
   "metadata": {},
   "outputs": [
    {
     "data": {
      "text/plain": [
       "True"
      ]
     },
     "execution_count": 25,
     "metadata": {},
     "output_type": "execute_result"
    }
   ],
   "source": [
    "not (False)"
   ]
  },
  {
   "cell_type": "code",
   "execution_count": 26,
   "id": "942b68d2-264b-4982-b229-d84447e9d951",
   "metadata": {},
   "outputs": [
    {
     "data": {
      "text/plain": [
       "True"
      ]
     },
     "execution_count": 26,
     "metadata": {},
     "output_type": "execute_result"
    }
   ],
   "source": [
    "not (0)"
   ]
  },
  {
   "cell_type": "code",
   "execution_count": 10,
   "id": "d2cf8c54-4452-4f24-a778-dcb76d8a5588",
   "metadata": {},
   "outputs": [
    {
     "data": {
      "text/plain": [
       "1"
      ]
     },
     "execution_count": 10,
     "metadata": {},
     "output_type": "execute_result"
    }
   ],
   "source": [
    "int(not int(bool(0)))"
   ]
  },
  {
   "cell_type": "code",
   "execution_count": 30,
   "id": "85e480d9-a4a9-40a4-85f9-6b90011a8dd9",
   "metadata": {},
   "outputs": [
    {
     "name": "stdout",
     "output_type": "stream",
     "text": [
      "True\n"
     ]
    }
   ],
   "source": [
    "print(not(False)*True)\n",
    "#here it prints true of false not 0 or 1"
   ]
  },
  {
   "cell_type": "code",
   "execution_count": 40,
   "id": "866dd371-342f-4d64-849a-262813d8588e",
   "metadata": {},
   "outputs": [
    {
     "data": {
      "text/plain": [
       "1"
      ]
     },
     "execution_count": 40,
     "metadata": {},
     "output_type": "execute_result"
    }
   ],
   "source": [
    "(not(False))*True"
   ]
  },
  {
   "cell_type": "code",
   "execution_count": 31,
   "id": "09c5ef4f-e293-440d-87f5-421fe453b7e8",
   "metadata": {},
   "outputs": [
    {
     "name": "stdout",
     "output_type": "stream",
     "text": [
      "1\n"
     ]
    }
   ],
   "source": [
    "print((not(False))*True)\n",
    "#here it prints 0 or 1 because of the precedennce\n"
   ]
  },
  {
   "cell_type": "code",
   "execution_count": 43,
   "id": "517b4e78-22d4-4cbf-8aab-4ccd7e901d3e",
   "metadata": {},
   "outputs": [
    {
     "name": "stdout",
     "output_type": "stream",
     "text": [
      "0\n"
     ]
    }
   ],
   "source": [
    "print((not(False))*False)"
   ]
  },
  {
   "cell_type": "code",
   "execution_count": 32,
   "id": "04d95cc2-13d4-4bc6-8655-ab45223a086c",
   "metadata": {},
   "outputs": [
    {
     "data": {
      "text/plain": [
       "False"
      ]
     },
     "execution_count": 32,
     "metadata": {},
     "output_type": "execute_result"
    }
   ],
   "source": [
    "not True*True\n",
    "#here first the True * True gets executed and then the not opeartion is executed"
   ]
  },
  {
   "cell_type": "code",
   "execution_count": 41,
   "id": "1eca9945-b517-49df-b6ee-5cfcf676fa73",
   "metadata": {},
   "outputs": [
    {
     "data": {
      "text/plain": [
       "False"
      ]
     },
     "execution_count": 41,
     "metadata": {},
     "output_type": "execute_result"
    }
   ],
   "source": [
    "not False*False == True\n",
    "#false * false is evaluated first"
   ]
  },
  {
   "cell_type": "code",
   "execution_count": 36,
   "id": "87b1a76d-2652-4b02-ae64-d992a5592499",
   "metadata": {},
   "outputs": [
    {
     "data": {
      "text/plain": [
       "True"
      ]
     },
     "execution_count": 36,
     "metadata": {},
     "output_type": "execute_result"
    }
   ],
   "source": [
    "not(False)*False == True"
   ]
  },
  {
   "cell_type": "code",
   "execution_count": 37,
   "id": "d3a33ebb-783d-456f-a9a2-66a09247d2a6",
   "metadata": {},
   "outputs": [
    {
     "data": {
      "text/plain": [
       "True"
      ]
     },
     "execution_count": 37,
     "metadata": {},
     "output_type": "execute_result"
    }
   ],
   "source": [
    "not(False)*False"
   ]
  },
  {
   "cell_type": "code",
   "execution_count": 38,
   "id": "0f2a4e90-0689-4391-9032-8a62bf8f6af2",
   "metadata": {},
   "outputs": [
    {
     "data": {
      "text/plain": [
       "0"
      ]
     },
     "execution_count": 38,
     "metadata": {},
     "output_type": "execute_result"
    }
   ],
   "source": [
    "(not(False))*False"
   ]
  },
  {
   "cell_type": "code",
   "execution_count": 7,
   "id": "876a74fe-3b59-4239-a947-c4dfc359d16d",
   "metadata": {},
   "outputs": [
    {
     "name": "stdout",
     "output_type": "stream",
     "text": [
      "value of start is:True\n",
      "value of stop is:False\n",
      "inverse of start is:False\n",
      "inverse of stop is:True\n"
     ]
    }
   ],
   "source": [
    "start=True\n",
    "stop=False\n",
    "print(f\"value of start is:{start}\")\n",
    "print(f\"value of stop is:{stop}\")\n",
    "print(f\"inverse of start is:{ not start}\")\n",
    "print(f\"inverse of stop is:{ not stop}\")"
   ]
  },
  {
   "cell_type": "code",
   "execution_count": 15,
   "id": "7776d85d-9b0a-4d6d-8f99-5daf4f33e131",
   "metadata": {},
   "outputs": [
    {
     "name": "stdout",
     "output_type": "stream",
     "text": [
      "value of start is:1\n",
      "value of stop is:0\n",
      "inverse of start is:0\n",
      "inverse of stop is:1\n"
     ]
    }
   ],
   "source": [
    "start=1\n",
    "stop=0\n",
    "print(f\"value of start is:{start}\")\n",
    "print(f\"value of stop is:{stop}\")\n",
    "print(f\"inverse of start is:{ int(not start)}\")\n",
    "print(f\"inverse of stop is:{int( not stop)}\")"
   ]
  },
  {
   "cell_type": "code",
   "execution_count": 18,
   "id": "e97355e2-ec7a-4290-b496-58f61b7da42f",
   "metadata": {},
   "outputs": [
    {
     "name": "stdout",
     "output_type": "stream",
     "text": [
      "boolean value of no. 0 is False\n",
      "boolean value of no. 1 is True\n",
      "negation of 0 is True and negation of 1 is False\n",
      "\n",
      "#------------------------#\n",
      "\n"
     ]
    }
   ],
   "source": [
    "zero = 0\n",
    "one = 1\n",
    "\n",
    "print(f\"boolean value of no. {zero} is {bool(zero)}\")\n",
    "print(f\"boolean value of no. {one} is {bool(one)}\")\n",
    "print(f\"negation of {zero} is {not zero} and negation of {one} is {not one}\")\n",
    "print(\"\\n#------------------------#\\n\")"
   ]
  },
  {
   "cell_type": "code",
   "execution_count": 19,
   "id": "a80a3bec-3073-47b3-a1d2-e40e4eec0cd4",
   "metadata": {},
   "outputs": [
    {
     "name": "stdout",
     "output_type": "stream",
     "text": [
      "boolean value of no. -5 is True\n",
      "boolean value of no. 5 is True\n",
      "negation of -5 is False and negation of 5 is False\n",
      "\n",
      "#------------------------#\n",
      "\n"
     ]
    }
   ],
   "source": [
    "Some_negative_integer = -5\n",
    "Some_positive_integer = 5\n",
    "\n",
    "print(f\"boolean value of no. {Some_negative_integer} is {bool(Some_negative_integer)}\")\n",
    "print(f\"boolean value of no. {Some_positive_integer} is {bool(Some_positive_integer)}\")\n",
    "print(f\"negation of {Some_negative_integer} is {not Some_negative_integer} \\\n",
    "and negation of {Some_positive_integer} is {not Some_positive_integer}\")\n",
    "\n",
    "print(\"\\n#------------------------#\\n\")"
   ]
  },
  {
   "cell_type": "markdown",
   "id": "df02bb48-c50a-47eb-9ac3-b990ee98438f",
   "metadata": {},
   "source": [
    "# AND OPERATION"
   ]
  },
  {
   "cell_type": "code",
   "execution_count": 20,
   "id": "a625f44a-a09f-43ef-8ba0-52025788c3d9",
   "metadata": {},
   "outputs": [
    {
     "name": "stdout",
     "output_type": "stream",
     "text": [
      "Dish contains VEGETABLES: True\n",
      "Dish contains SALT: False\n",
      "Hence dish prepared was good: False\n",
      "\n"
     ]
    }
   ],
   "source": [
    "VEGETABLES = True\n",
    "SALT = False\n",
    "DISH = VEGETABLES and SALT\n",
    "\n",
    "print(f\"Dish contains VEGETABLES: {VEGETABLES}\")\n",
    "print(f\"Dish contains SALT: {SALT}\")\n",
    "print(f\"Hence dish prepared was good: {DISH}\\n\")"
   ]
  },
  {
   "cell_type": "code",
   "execution_count": 21,
   "id": "391e78db-d861-45b0-92e7-1175affa2eaa",
   "metadata": {},
   "outputs": [
    {
     "name": "stdout",
     "output_type": "stream",
     "text": [
      "1\n",
      "0\n",
      "0\n"
     ]
    }
   ],
   "source": [
    "print(True*True)\n",
    "print(True*False)\n",
    "print(False*False)"
   ]
  },
  {
   "cell_type": "markdown",
   "id": "29c1f585-6716-4666-b73c-20cbb18e1c48",
   "metadata": {},
   "source": [
    "### 4.1.2 Equality Operators\n",
    "\n",
    "Following operations are present in python for equlity check operation-\n",
    "\n",
    "|Operators|Meaning|\n",
    "|-|-|\n",
    "|**is**|***a is b*** returns true if variable/identifiers a and b *points* to the *same object*|\n",
    "|**is not**|***a is not b*** returns true if variable/identifiers a and b *points* to the *different object*|\n",
    "|**==**|***a == b*** returns true if variable/identifiers a and b has same value|\n",
    "|**!=**|***a != b*** returns true if variable/identifiers a and b has different value|\n"
   ]
  },
  {
   "cell_type": "code",
   "execution_count": 45,
   "id": "ff3ba185-216a-4882-a32a-32d43cbbd284",
   "metadata": {},
   "outputs": [],
   "source": [
    "lista=['a','b','c','d','e']\n",
    "listb=['a','b','c','d','e']"
   ]
  },
  {
   "cell_type": "code",
   "execution_count": 48,
   "id": "1843008b-43a7-4ef8-8355-5b03dad19c4b",
   "metadata": {},
   "outputs": [
    {
     "name": "stdout",
     "output_type": "stream",
     "text": [
      "139748252760512\n",
      "139748252782144\n"
     ]
    }
   ],
   "source": [
    "#id() returns the identity of the given object\n",
    "print(id(lista))\n",
    "print(id(listb))"
   ]
  },
  {
   "cell_type": "code",
   "execution_count": 50,
   "id": "761a6146-3d8f-4f33-a05c-9860fe340b21",
   "metadata": {},
   "outputs": [
    {
     "data": {
      "text/plain": [
       "False"
      ]
     },
     "execution_count": 50,
     "metadata": {},
     "output_type": "execute_result"
    }
   ],
   "source": [
    "lista is listb\n",
    "#it will be false because both the ;list are situated at different memory location"
   ]
  },
  {
   "cell_type": "code",
   "execution_count": 51,
   "id": "1e8143e1-1e5a-49b9-bbcf-bcbb1a5c1f6f",
   "metadata": {},
   "outputs": [
    {
     "data": {
      "text/plain": [
       "True"
      ]
     },
     "execution_count": 51,
     "metadata": {},
     "output_type": "execute_result"
    }
   ],
   "source": [
    "lista is lista"
   ]
  },
  {
   "cell_type": "code",
   "execution_count": 55,
   "id": "ff280fa2-107c-4ef9-8e9b-4654e2ea26fe",
   "metadata": {},
   "outputs": [
    {
     "data": {
      "text/plain": [
       "True"
      ]
     },
     "execution_count": 55,
     "metadata": {},
     "output_type": "execute_result"
    }
   ],
   "source": [
    "lista is not listb"
   ]
  },
  {
   "cell_type": "code",
   "execution_count": 56,
   "id": "9ede282f-b9ff-4348-879a-502c8a9a9f2b",
   "metadata": {},
   "outputs": [
    {
     "data": {
      "text/plain": [
       "True"
      ]
     },
     "execution_count": 56,
     "metadata": {},
     "output_type": "execute_result"
    }
   ],
   "source": [
    "#== checks the element or the content of the object not the address it point to\n",
    "lista==listb"
   ]
  },
  {
   "cell_type": "code",
   "execution_count": 54,
   "id": "3a94ac47-3388-4f64-9e6b-47e40b6ea6d2",
   "metadata": {},
   "outputs": [
    {
     "name": "stdout",
     "output_type": "stream",
     "text": [
      "139748252856000\n",
      "139748252856000\n"
     ]
    }
   ],
   "source": [
    "listc=[1,2,3,4,5]\n",
    "listd=listc\n",
    "print(id(listc))\n",
    "print(id(listd))"
   ]
  },
  {
   "cell_type": "code",
   "execution_count": 53,
   "id": "202d76ce-34e5-4756-9846-82848d93079e",
   "metadata": {},
   "outputs": [
    {
     "data": {
      "text/plain": [
       "True"
      ]
     },
     "execution_count": 53,
     "metadata": {},
     "output_type": "execute_result"
    }
   ],
   "source": [
    "listc is listd"
   ]
  },
  {
   "cell_type": "code",
   "execution_count": 57,
   "id": "c419220f-a34f-4be2-a261-e40b65aea10c",
   "metadata": {},
   "outputs": [
    {
     "data": {
      "text/plain": [
       "True"
      ]
     },
     "execution_count": 57,
     "metadata": {},
     "output_type": "execute_result"
    }
   ],
   "source": [
    "listc==listd"
   ]
  },
  {
   "cell_type": "code",
   "execution_count": 59,
   "id": "2fb173af-0cc1-4bba-b7fc-627fe1a368e8",
   "metadata": {},
   "outputs": [
    {
     "name": "stdout",
     "output_type": "stream",
     "text": [
      "id of a 139748601119408\n",
      "id of b 139748601119408\n"
     ]
    }
   ],
   "source": [
    "a=15\n",
    "b=15\n",
    "print(\"id of a\",id(a))\n",
    "print(\"id of b\",id(b))"
   ]
  },
  {
   "cell_type": "code",
   "execution_count": 60,
   "id": "1cd40866-e45e-4b76-a119-dc81d330203c",
   "metadata": {},
   "outputs": [
    {
     "name": "stdout",
     "output_type": "stream",
     "text": [
      "id of C 139748252751728\n",
      "id of D 139748252751728\n"
     ]
    }
   ],
   "source": [
    "c=\"Krishna\"\n",
    "d=\"Krishna\"\n",
    "print(\"id of C\",id(c))\n",
    "print(\"id of D\",id(d))"
   ]
  },
  {
   "cell_type": "code",
   "execution_count": 62,
   "id": "1be40750-aff0-46a6-aa05-4f24d8afa6ac",
   "metadata": {},
   "outputs": [
    {
     "name": "stdout",
     "output_type": "stream",
     "text": [
      "['a', 'b', 'c', 'd', 'e']\n"
     ]
    },
    {
     "data": {
      "text/plain": [
       "['a', 'b', 'c', 'd', 'e']"
      ]
     },
     "execution_count": 62,
     "metadata": {},
     "output_type": "execute_result"
    }
   ],
   "source": [
    "print(lista)\n",
    "listb"
   ]
  },
  {
   "cell_type": "code",
   "execution_count": 63,
   "id": "7a001227-a5f7-4eda-9c5b-3deccc9d14f8",
   "metadata": {},
   "outputs": [
    {
     "data": {
      "text/plain": [
       "'a'"
      ]
     },
     "execution_count": 63,
     "metadata": {},
     "output_type": "execute_result"
    }
   ],
   "source": [
    "lista[0]"
   ]
  },
  {
   "cell_type": "code",
   "execution_count": 65,
   "id": "e8333534-6afc-4958-973e-63bbb06a6a27",
   "metadata": {},
   "outputs": [],
   "source": [
    "lista[0]=1\n",
    "#We can change the elemets of the list even after assinging the values"
   ]
  },
  {
   "cell_type": "code",
   "execution_count": 66,
   "id": "7c3ed931-7d96-4ef4-b912-2c050706ddf6",
   "metadata": {},
   "outputs": [
    {
     "name": "stdout",
     "output_type": "stream",
     "text": [
      "[1, 'b', 'c', 'd', 'e']\n"
     ]
    }
   ],
   "source": [
    "print(lista)"
   ]
  },
  {
   "cell_type": "code",
   "execution_count": 67,
   "id": "dc7f7b81-2eb5-483f-a6db-06ae3c6e9d88",
   "metadata": {},
   "outputs": [
    {
     "name": "stdout",
     "output_type": "stream",
     "text": [
      "Krishna\n"
     ]
    }
   ],
   "source": [
    "print(c)"
   ]
  },
  {
   "cell_type": "code",
   "execution_count": 69,
   "id": "014e59fc-7273-42c5-851f-b7e39eee5905",
   "metadata": {},
   "outputs": [
    {
     "data": {
      "text/plain": [
       "'K'"
      ]
     },
     "execution_count": 69,
     "metadata": {},
     "output_type": "execute_result"
    }
   ],
   "source": [
    "c[0]"
   ]
  },
  {
   "cell_type": "code",
   "execution_count": 72,
   "id": "b0cf25a2-b02f-4447-9513-17b7ac52d080",
   "metadata": {},
   "outputs": [
    {
     "ename": "TypeError",
     "evalue": "'str' object does not support item assignment",
     "output_type": "error",
     "traceback": [
      "\u001b[0;31m---------------------------------------------------------------------------\u001b[0m",
      "\u001b[0;31mTypeError\u001b[0m                                 Traceback (most recent call last)",
      "Cell \u001b[0;32mIn[72], line 1\u001b[0m\n\u001b[0;32m----> 1\u001b[0m \u001b[43mc\u001b[49m\u001b[43m[\u001b[49m\u001b[38;5;241;43m0\u001b[39;49m\u001b[43m]\u001b[49m\u001b[38;5;241m=\u001b[39m\u001b[38;5;124m'\u001b[39m\u001b[38;5;124mj\u001b[39m\u001b[38;5;124m'\u001b[39m\n\u001b[1;32m      2\u001b[0m \u001b[38;5;66;03m# this is not possible in string because the string is immutable\u001b[39;00m\n\u001b[1;32m      3\u001b[0m \u001b[38;5;66;03m# we can replacce the whole string but we cannot replacce the character of the string\u001b[39;00m\n",
      "\u001b[0;31mTypeError\u001b[0m: 'str' object does not support item assignment"
     ]
    }
   ],
   "source": [
    "c[0]='j'\n",
    "# this is not possible in string because the string is immutable\n",
    "# we can replacce the whole string but we cannot replacce the character of the string"
   ]
  },
  {
   "cell_type": "markdown",
   "id": "244b65d0-8433-4de4-b5cb-a9f0ce4fc544",
   "metadata": {},
   "source": [
    "### Bitwise Operators\n",
    "|Operation|Meaning|\n",
    "|:-:|:-:|\n",
    "| **∼** |bitwise complement (prefix unary operator)|\n",
    "| **&** |bitwise and|\n",
    "| **\\|** |bitwise or|\n",
    "| **^** |bitwise exclusive-or|\n",
    "| **<<** |shift bits left, filling in with zeros|\n",
    "| **>>** |shift bits right, filling in with sign bit|\n"
   ]
  },
  {
   "cell_type": "code",
   "execution_count": 78,
   "id": "3a54e5c4-d767-4723-bda3-e6193f16717e",
   "metadata": {},
   "outputs": [
    {
     "name": "stdout",
     "output_type": "stream",
     "text": [
      "Bike is faster than car?False\n",
      "Bike is slower than car?True\n"
     ]
    }
   ],
   "source": [
    "max_speed_car=200\n",
    "max_speed_bike=110\n",
    "print(f\"Bike is faster than car?{max_speed_bike > max_speed_car}\")\n",
    "print(f\"Bike is slower than car?{max_speed_bike < max_speed_car}\")"
   ]
  },
  {
   "cell_type": "code",
   "execution_count": 82,
   "id": "b4a6334b-6c66-400e-9de8-8e6092034342",
   "metadata": {},
   "outputs": [
    {
     "name": "stdout",
     "output_type": "stream",
     "text": [
      "0b1010\n"
     ]
    }
   ],
   "source": [
    "var1 = 10\n",
    "print(bin(var1))"
   ]
  },
  {
   "cell_type": "code",
   "execution_count": 83,
   "id": "8062a45a-db6a-4b91-9efa-548a2317deee",
   "metadata": {},
   "outputs": [
    {
     "data": {
      "text/plain": [
       "-11"
      ]
     },
     "execution_count": 83,
     "metadata": {},
     "output_type": "execute_result"
    }
   ],
   "source": [
    "~var1\n",
    "#bitwise complement"
   ]
  },
  {
   "cell_type": "code",
   "execution_count": 93,
   "id": "a8431dda-11ab-44f9-980d-4cfe3e72b45e",
   "metadata": {},
   "outputs": [
    {
     "name": "stdout",
     "output_type": "stream",
     "text": [
      "11\n"
     ]
    }
   ],
   "source": [
    "# bitwise or\n",
    "print(10 | 9)\n",
    "\n",
    "#10 -1010\n",
    "#9  -1001\n",
    "#----------\n",
    "#    1011 ------>11\n"
   ]
  },
  {
   "cell_type": "code",
   "execution_count": 92,
   "id": "9590b50d-4c7d-490e-88f0-28c254204bf1",
   "metadata": {},
   "outputs": [
    {
     "name": "stdout",
     "output_type": "stream",
     "text": [
      "8\n"
     ]
    }
   ],
   "source": [
    "# bitwise and\n",
    "print(10 & 9)\n",
    "\n",
    "# 10 -1010\n",
    "# 9  -1001\n",
    "#----------\n",
    "#    1000 ------>8\n"
   ]
  },
  {
   "cell_type": "code",
   "execution_count": 95,
   "id": "b88f834e-9e66-48d9-bd01-148914c4bb43",
   "metadata": {},
   "outputs": [
    {
     "name": "stdout",
     "output_type": "stream",
     "text": [
      "3\n"
     ]
    }
   ],
   "source": [
    "# bitwise xor\n",
    "print(10 ^ 9)\n",
    "\n",
    "# 10 -1010\n",
    "# 9  -1001\n",
    "#----------\n",
    "#    0012 ------>3"
   ]
  },
  {
   "cell_type": "code",
   "execution_count": 98,
   "id": "1d028af9-5789-4f0c-a458-ef489ebfdf2a",
   "metadata": {},
   "outputs": [
    {
     "data": {
      "text/plain": [
       "20"
      ]
     },
     "execution_count": 98,
     "metadata": {},
     "output_type": "execute_result"
    }
   ],
   "source": [
    "var1 << 1\n",
    "\n",
    "# 10--->0 1010\n",
    "#shift one bit to the left\n",
    "# 10101------>2"
   ]
  },
  {
   "cell_type": "markdown",
   "id": "cdcb9dcb-5bec-42f4-b958-30764019ad58",
   "metadata": {},
   "source": [
    "## Arithmetic operations"
   ]
  },
  {
   "cell_type": "code",
   "execution_count": 80,
   "id": "30bbe92a-6a04-4b88-916e-e136137c5c22",
   "metadata": {},
   "outputs": [
    {
     "name": "stdout",
     "output_type": "stream",
     "text": [
      "P * q 7600\n",
      "P + q 176\n",
      "P - q 24\n",
      "P / q, True division 1.3157894736842106\n",
      "P // q, Integral division  1\n",
      "P % q 24\n"
     ]
    }
   ],
   "source": [
    "p=100\n",
    "q=76\n",
    "print(\"P * q\",p*q)\n",
    "print(\"P + q\",p+q)\n",
    "print(\"P - q\",p-q)\n",
    "print(\"P / q, True division\",p/q)\n",
    "print(\"P // q, Integral division \",p//q)\n",
    "print(\"P % q\",p%q)"
   ]
  },
  {
   "cell_type": "code",
   "execution_count": null,
   "id": "29dd91fc-3d54-4d44-8c39-b4d7b722a7ac",
   "metadata": {},
   "outputs": [],
   "source": []
  }
 ],
 "metadata": {
  "kernelspec": {
   "display_name": "Python 3 (ipykernel)",
   "language": "python",
   "name": "python3"
  },
  "language_info": {
   "codemirror_mode": {
    "name": "ipython",
    "version": 3
   },
   "file_extension": ".py",
   "mimetype": "text/x-python",
   "name": "python",
   "nbconvert_exporter": "python",
   "pygments_lexer": "ipython3",
   "version": "3.10.8"
  }
 },
 "nbformat": 4,
 "nbformat_minor": 5
}
